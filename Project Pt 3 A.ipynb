{
 "cells": [
  {
   "cell_type": "code",
   "execution_count": 2,
   "id": "5685454a-91e1-41d6-9d9e-0830f84cf818",
   "metadata": {},
   "outputs": [],
   "source": [
    "# Import packages\n",
    "import os, time, json\n",
    "import tmdbsimple as tmdb \n",
    "import pandas as pd\n",
    "from tqdm.notebook import tqdm_notebook"
   ]
  },
  {
   "cell_type": "code",
   "execution_count": 5,
   "id": "e35b2af2-e6a7-4b7d-86ec-e3e7c0d13639",
   "metadata": {},
   "outputs": [],
   "source": [
    "import json\n",
    "with open('/Users/thoma/.secret/tmdb_api.json', 'r') as f:\n",
    "    login = json.load(f)\n",
    "## Display the keys of the loaded dict\n",
    "login.keys()\n",
    "import tmdbsimple as tmdb\n",
    "tmdb.API_KEY =  login['api-key']"
   ]
  },
  {
   "cell_type": "code",
   "execution_count": 6,
   "id": "15a50f68-b20a-49e0-b4f5-ea2fd6f7779b",
   "metadata": {},
   "outputs": [],
   "source": [
    "def get_movie_with_rating(movie_id):\n",
    "    # Get the movie object for the current id\n",
    "    movie = tmdb.Movies(movie_id)\n",
    "    \n",
    "    # save the .info .releases dictionaries\n",
    "    movie_info = movie.info()\n",
    "    releases = movie.releases()\n",
    "    \n",
    "    # Loop through countries in releases\n",
    "    for c in releases['countries']:\n",
    "        # if the country abbreviation==US\n",
    "        if c['iso_3166_1' ] =='US':\n",
    "            ## save a \"certification\" key in the info dict with the certification\n",
    "            movie_info['certification'] = c['certification']\n",
    "    return movie_info\n",
    "\n",
    "def write_json(new_data, filename): \n",
    "    \"\"\"Appends a list of records (new_data) to a json file (filename). \n",
    "    Adapted from: https://www.geeksforgeeks.org/append-to-json-file-using-python/\"\"\"  \n",
    "    \n",
    "    with open(filename,'r+') as file:\n",
    "        # First we load existing data into a dict.\n",
    "        file_data = json.load(file)\n",
    "        ## Choose extend or append\n",
    "        if (type(new_data) == list) & (type(file_data) == list):\n",
    "            file_data.extend(new_data)\n",
    "        else:\n",
    "             file_data.append(new_data)\n",
    "        # Sets file's current position at offset.\n",
    "        file.seek(0)\n",
    "        # convert back to json.\n",
    "        json.dump(file_data, file)"
   ]
  },
  {
   "cell_type": "code",
   "execution_count": 7,
   "id": "ca75b113-e34c-4328-abf7-138d1eb773ba",
   "metadata": {},
   "outputs": [],
   "source": [
    "# Load in the dataframe from project part 1 as basics:\n",
    "basics = pd.read_csv('Data/title.basics-cleaned.tsv.gz')"
   ]
  },
  {
   "cell_type": "code",
   "execution_count": 22,
   "id": "fb1bc991-571f-419a-aed3-e79bd57aeb22",
   "metadata": {},
   "outputs": [],
   "source": [
    "# Define list of years to get from API for outer loop\n",
    "YEARS_TO_GET = [2001,2002]\n",
    "errors = []\n",
    "FOLDER = 'Data/'"
   ]
  },
  {
   "cell_type": "code",
   "execution_count": 25,
   "id": "c14e030e-0435-4bb3-87da-2a5ed6b77738",
   "metadata": {},
   "outputs": [
    {
     "data": {
      "application/vnd.jupyter.widget-view+json": {
       "model_id": "6b0a8dd0654a446487ae99d911ec7991",
       "version_major": 2,
       "version_minor": 0
      },
      "text/plain": [
       "YEARS:   0%|          | 0/2 [00:00<?, ?it/s]"
      ]
     },
     "metadata": {},
     "output_type": "display_data"
    },
    {
     "data": {
      "application/vnd.jupyter.widget-view+json": {
       "model_id": "253d4510730e48f28d046cddeb8e539e",
       "version_major": 2,
       "version_minor": 0
      },
      "text/plain": [
       "Movies from 2001:   0%|          | 0/1576 [00:00<?, ?it/s]"
      ]
     },
     "metadata": {},
     "output_type": "display_data"
    },
    {
     "data": {
      "application/vnd.jupyter.widget-view+json": {
       "model_id": "1b0ed00dd2db4c66aae996d2a8fc2d76",
       "version_major": 2,
       "version_minor": 0
      },
      "text/plain": [
       "Movies from 2002:   0%|          | 0/1572 [00:00<?, ?it/s]"
      ]
     },
     "metadata": {},
     "output_type": "display_data"
    }
   ],
   "source": [
    "# Start of OUTER loop\n",
    "for YEAR in tqdm_notebook(YEARS_TO_GET, desc='YEARS', position=0):\n",
    "    #Defining the JSON file to store results for year\n",
    "    JSON_FILE = f'{FOLDER}tmdb_api_results_{2002}.json'\n",
    "    # Check if file exists\n",
    "    file_exists = os.path.isfile(JSON_FILE)\n",
    "\n",
    "    # If it does not exist: create it\n",
    "    if file_exists == False:\n",
    "        # Print a message indicating the file is being created \n",
    "        print(f\"Creating {JSON_FILE} for API results for {2002}.\")\n",
    "        # save an empty dict with just \"imdb_id\" to the new json file.\n",
    "        with open(JSON_FILE,'w') as f:\n",
    "            json.dump([{'imdb_id':0}],f)\n",
    "\n",
    "    # Filtering for movies from selected startYear\n",
    "    df = basics.loc[ basics['startYear']==YEAR].copy()\n",
    "    # saving movie ids to list\n",
    "    movie_ids = df['tconst']\n",
    "    # Load existing data from json into a dataframe called \"previous_df\"\n",
    "    previous_df = pd.read_json(JSON_FILE)\n",
    "\n",
    "    # filter out any ids that are already in the JSON_FILE\n",
    "    movie_ids_to_get = movie_ids[~movie_ids.isin(previous_df['imdb_id'])]\n",
    "\n",
    "    # Loop through movie_ids_to_get with a tqdm progress bar\n",
    "    for movie_id in tqdm_notebook(movie_ids_to_get, f\"Movies from {YEAR}\"):\n",
    "\n",
    "    # Attempt to retrieve then data for the movie id\n",
    "        try:\n",
    "            temp = get_movie_with_rating(movie_id)  #This uses your pre-ma    de function\n",
    "            # Append/extend results to existing file using a pre-made function\n",
    "            write_json(temp,JSON_FILE)\n",
    "            # Short 20 ms sleep to prevent overwhelming server\n",
    "            time.sleep(0.02)\n",
    "\n",
    "    # If it fails,  make a dict with just the id and None for certification.\n",
    "        except Exception as e:\n",
    "            errors.append([movie_id, e])\n",
    "            continue\n",
    "\n",
    "    final_year_df = pd.read_json(JSON_FILE)\n",
    "    final_year_df.to_csv(f\"{FOLDER}final_tmdb_data_{YEAR}.csv.gz\", compression=\"gzip\", index=False)"
   ]
  }
 ],
 "metadata": {
  "kernelspec": {
   "display_name": "Python 3 (ipykernel)",
   "language": "python",
   "name": "python3"
  },
  "language_info": {
   "codemirror_mode": {
    "name": "ipython",
    "version": 3
   },
   "file_extension": ".py",
   "mimetype": "text/x-python",
   "name": "python",
   "nbconvert_exporter": "python",
   "pygments_lexer": "ipython3",
   "version": "3.10.10"
  },
  "widgets": {
   "application/vnd.jupyter.widget-state+json": {
    "state": {
     "003963d686ae4ad684900d2f848a8ac2": {
      "model_module": "@jupyter-widgets/base",
      "model_module_version": "2.0.0",
      "model_name": "LayoutModel",
      "state": {}
     },
     "090b732219504cb79f1dcdd6b1f2c0d3": {
      "model_module": "@jupyter-widgets/controls",
      "model_module_version": "2.0.0",
      "model_name": "HTMLStyleModel",
      "state": {
       "description_width": "",
       "font_size": null,
       "text_color": null
      }
     },
     "09915a43625d4dbf9f07e4060f36e41b": {
      "model_module": "@jupyter-widgets/base",
      "model_module_version": "2.0.0",
      "model_name": "LayoutModel",
      "state": {}
     },
     "0ae2077685824f748826fbdc9bb0d348": {
      "model_module": "@jupyter-widgets/base",
      "model_module_version": "2.0.0",
      "model_name": "LayoutModel",
      "state": {}
     },
     "0c80e21f655c48ffac33bab332dd0acf": {
      "model_module": "@jupyter-widgets/controls",
      "model_module_version": "2.0.0",
      "model_name": "HTMLModel",
      "state": {
       "layout": "IPY_MODEL_144c3436dd1f4d11b627f1b10ed600e4",
       "style": "IPY_MODEL_48c64e337f9543259acffec4d3dbf8f5",
       "value": " 2/2 [29:25&lt;00:00, 910.54s/it]"
      }
     },
     "12925fa6a91341f1a2779278530a3bcf": {
      "model_module": "@jupyter-widgets/controls",
      "model_module_version": "2.0.0",
      "model_name": "HTMLStyleModel",
      "state": {
       "description_width": "",
       "font_size": null,
       "text_color": null
      }
     },
     "144c3436dd1f4d11b627f1b10ed600e4": {
      "model_module": "@jupyter-widgets/base",
      "model_module_version": "2.0.0",
      "model_name": "LayoutModel",
      "state": {}
     },
     "14c610165d2f47c095fc18c53d76da11": {
      "model_module": "@jupyter-widgets/base",
      "model_module_version": "2.0.0",
      "model_name": "LayoutModel",
      "state": {}
     },
     "179950cf4da6429180dd70bcd1f18bba": {
      "model_module": "@jupyter-widgets/base",
      "model_module_version": "2.0.0",
      "model_name": "LayoutModel",
      "state": {}
     },
     "1b0ed00dd2db4c66aae996d2a8fc2d76": {
      "model_module": "@jupyter-widgets/controls",
      "model_module_version": "2.0.0",
      "model_name": "HBoxModel",
      "state": {
       "children": [
        "IPY_MODEL_f06a34ea696e4a5696de89ead1b754a1",
        "IPY_MODEL_70c81c20b26e4074a9873319013ce852",
        "IPY_MODEL_48ba8fa8e46346ff986295e9f0b0b2eb"
       ],
       "layout": "IPY_MODEL_f9158e6209e64a809ddd4e6cfdeb2593"
      }
     },
     "24b46b9c90a34cfea87feba166dffe1e": {
      "model_module": "@jupyter-widgets/base",
      "model_module_version": "2.0.0",
      "model_name": "LayoutModel",
      "state": {}
     },
     "253d4510730e48f28d046cddeb8e539e": {
      "model_module": "@jupyter-widgets/controls",
      "model_module_version": "2.0.0",
      "model_name": "HBoxModel",
      "state": {
       "children": [
        "IPY_MODEL_3f5a094331c7444ab529ce3226cf6aa6",
        "IPY_MODEL_419b2e6b485b421088e9a9522da58928",
        "IPY_MODEL_b2269311f1fb4fbe940aa5f7c8046509"
       ],
       "layout": "IPY_MODEL_003963d686ae4ad684900d2f848a8ac2"
      }
     },
     "27e6d4b874c14e46ae0e9862af71793e": {
      "model_module": "@jupyter-widgets/controls",
      "model_module_version": "2.0.0",
      "model_name": "ProgressStyleModel",
      "state": {
       "description_width": ""
      }
     },
     "2c3ddf2337044e75bce1fe9d978605b7": {
      "model_module": "@jupyter-widgets/controls",
      "model_module_version": "2.0.0",
      "model_name": "HTMLStyleModel",
      "state": {
       "description_width": "",
       "font_size": null,
       "text_color": null
      }
     },
     "2d342a737027430eade9f23fe19c525b": {
      "model_module": "@jupyter-widgets/controls",
      "model_module_version": "2.0.0",
      "model_name": "HTMLStyleModel",
      "state": {
       "description_width": "",
       "font_size": null,
       "text_color": null
      }
     },
     "33b2c7e3b01347749d98d1ac0c6a5add": {
      "model_module": "@jupyter-widgets/controls",
      "model_module_version": "2.0.0",
      "model_name": "ProgressStyleModel",
      "state": {
       "description_width": ""
      }
     },
     "33cc889be9e04d49a20799d19bb4fa99": {
      "model_module": "@jupyter-widgets/controls",
      "model_module_version": "2.0.0",
      "model_name": "HTMLModel",
      "state": {
       "layout": "IPY_MODEL_0ae2077685824f748826fbdc9bb0d348",
       "style": "IPY_MODEL_090b732219504cb79f1dcdd6b1f2c0d3",
       "value": " 0/2 [00:00&lt;?, ?it/s]"
      }
     },
     "393e0e8955d74ffbbf1165b1e438b23a": {
      "model_module": "@jupyter-widgets/base",
      "model_module_version": "2.0.0",
      "model_name": "LayoutModel",
      "state": {}
     },
     "39cddb307b714c1fb81f979cb531e08f": {
      "model_module": "@jupyter-widgets/controls",
      "model_module_version": "2.0.0",
      "model_name": "HTMLStyleModel",
      "state": {
       "description_width": "",
       "font_size": null,
       "text_color": null
      }
     },
     "3f5a094331c7444ab529ce3226cf6aa6": {
      "model_module": "@jupyter-widgets/controls",
      "model_module_version": "2.0.0",
      "model_name": "HTMLModel",
      "state": {
       "layout": "IPY_MODEL_42432992ebe147e8826fc5ca5bea57a3",
       "style": "IPY_MODEL_2c3ddf2337044e75bce1fe9d978605b7",
       "value": "Movies from 2001: 100%"
      }
     },
     "419b2e6b485b421088e9a9522da58928": {
      "model_module": "@jupyter-widgets/controls",
      "model_module_version": "2.0.0",
      "model_name": "FloatProgressModel",
      "state": {
       "bar_style": "success",
       "layout": "IPY_MODEL_179950cf4da6429180dd70bcd1f18bba",
       "max": 1576,
       "style": "IPY_MODEL_df34f8dc485d43059633c2f8f8360e9e",
       "value": 1576
      }
     },
     "42432992ebe147e8826fc5ca5bea57a3": {
      "model_module": "@jupyter-widgets/base",
      "model_module_version": "2.0.0",
      "model_name": "LayoutModel",
      "state": {}
     },
     "48ba8fa8e46346ff986295e9f0b0b2eb": {
      "model_module": "@jupyter-widgets/controls",
      "model_module_version": "2.0.0",
      "model_name": "HTMLModel",
      "state": {
       "layout": "IPY_MODEL_b2557debc7e14c968904a12df59bdb07",
       "style": "IPY_MODEL_2d342a737027430eade9f23fe19c525b",
       "value": " 1572/1572 [17:19&lt;00:00,  2.69it/s]"
      }
     },
     "48c64e337f9543259acffec4d3dbf8f5": {
      "model_module": "@jupyter-widgets/controls",
      "model_module_version": "2.0.0",
      "model_name": "HTMLStyleModel",
      "state": {
       "description_width": "",
       "font_size": null,
       "text_color": null
      }
     },
     "520d27eb782541749ce46b3ac5ef890c": {
      "model_module": "@jupyter-widgets/controls",
      "model_module_version": "2.0.0",
      "model_name": "HTMLStyleModel",
      "state": {
       "description_width": "",
       "font_size": null,
       "text_color": null
      }
     },
     "535949e90d964473a20eaa50e9cfd60e": {
      "model_module": "@jupyter-widgets/base",
      "model_module_version": "2.0.0",
      "model_name": "LayoutModel",
      "state": {}
     },
     "6b0a8dd0654a446487ae99d911ec7991": {
      "model_module": "@jupyter-widgets/controls",
      "model_module_version": "2.0.0",
      "model_name": "HBoxModel",
      "state": {
       "children": [
        "IPY_MODEL_c566d06dfd144bbfb43dbbf398f6bd1e",
        "IPY_MODEL_d4e493bac72f4ad0a46545f9841d785f",
        "IPY_MODEL_0c80e21f655c48ffac33bab332dd0acf"
       ],
       "layout": "IPY_MODEL_14c610165d2f47c095fc18c53d76da11"
      }
     },
     "70c81c20b26e4074a9873319013ce852": {
      "model_module": "@jupyter-widgets/controls",
      "model_module_version": "2.0.0",
      "model_name": "FloatProgressModel",
      "state": {
       "bar_style": "success",
       "layout": "IPY_MODEL_393e0e8955d74ffbbf1165b1e438b23a",
       "max": 1572,
       "style": "IPY_MODEL_33b2c7e3b01347749d98d1ac0c6a5add",
       "value": 1572
      }
     },
     "77a75065964d4fde94c47a19809592a7": {
      "model_module": "@jupyter-widgets/controls",
      "model_module_version": "2.0.0",
      "model_name": "ProgressStyleModel",
      "state": {
       "description_width": ""
      }
     },
     "80274edf138a48f68afbf25cccdbeaec": {
      "model_module": "@jupyter-widgets/base",
      "model_module_version": "2.0.0",
      "model_name": "LayoutModel",
      "state": {}
     },
     "9ffd4f857e6f4d70a622bbc836593efb": {
      "model_module": "@jupyter-widgets/base",
      "model_module_version": "2.0.0",
      "model_name": "LayoutModel",
      "state": {}
     },
     "a020a846a2874db08eeb269c62680ce7": {
      "model_module": "@jupyter-widgets/controls",
      "model_module_version": "2.0.0",
      "model_name": "HTMLStyleModel",
      "state": {
       "description_width": "",
       "font_size": null,
       "text_color": null
      }
     },
     "a2fa8c97fda2485391992426a4c3dca2": {
      "model_module": "@jupyter-widgets/controls",
      "model_module_version": "2.0.0",
      "model_name": "HTMLModel",
      "state": {
       "layout": "IPY_MODEL_bdaee13c0a4a403986fef2dbc78c1fa4",
       "style": "IPY_MODEL_12925fa6a91341f1a2779278530a3bcf",
       "value": "YEARS:   0%"
      }
     },
     "b2269311f1fb4fbe940aa5f7c8046509": {
      "model_module": "@jupyter-widgets/controls",
      "model_module_version": "2.0.0",
      "model_name": "HTMLModel",
      "state": {
       "layout": "IPY_MODEL_80274edf138a48f68afbf25cccdbeaec",
       "style": "IPY_MODEL_520d27eb782541749ce46b3ac5ef890c",
       "value": " 1576/1576 [12:06&lt;00:00,  3.56it/s]"
      }
     },
     "b2557debc7e14c968904a12df59bdb07": {
      "model_module": "@jupyter-widgets/base",
      "model_module_version": "2.0.0",
      "model_name": "LayoutModel",
      "state": {}
     },
     "bdaee13c0a4a403986fef2dbc78c1fa4": {
      "model_module": "@jupyter-widgets/base",
      "model_module_version": "2.0.0",
      "model_name": "LayoutModel",
      "state": {}
     },
     "bdc002b4c69d4735b816ed04f65ac03a": {
      "model_module": "@jupyter-widgets/controls",
      "model_module_version": "2.0.0",
      "model_name": "HBoxModel",
      "state": {
       "children": [
        "IPY_MODEL_a2fa8c97fda2485391992426a4c3dca2",
        "IPY_MODEL_d20f7e2d36fa42abb1d80155b3f0009a",
        "IPY_MODEL_33cc889be9e04d49a20799d19bb4fa99"
       ],
       "layout": "IPY_MODEL_09915a43625d4dbf9f07e4060f36e41b"
      }
     },
     "c566d06dfd144bbfb43dbbf398f6bd1e": {
      "model_module": "@jupyter-widgets/controls",
      "model_module_version": "2.0.0",
      "model_name": "HTMLModel",
      "state": {
       "layout": "IPY_MODEL_535949e90d964473a20eaa50e9cfd60e",
       "style": "IPY_MODEL_39cddb307b714c1fb81f979cb531e08f",
       "value": "YEARS: 100%"
      }
     },
     "d20f7e2d36fa42abb1d80155b3f0009a": {
      "model_module": "@jupyter-widgets/controls",
      "model_module_version": "2.0.0",
      "model_name": "FloatProgressModel",
      "state": {
       "bar_style": "danger",
       "layout": "IPY_MODEL_e9e7b466a6774813938d494271d6472e",
       "max": 2,
       "style": "IPY_MODEL_77a75065964d4fde94c47a19809592a7"
      }
     },
     "d4e493bac72f4ad0a46545f9841d785f": {
      "model_module": "@jupyter-widgets/controls",
      "model_module_version": "2.0.0",
      "model_name": "FloatProgressModel",
      "state": {
       "bar_style": "success",
       "layout": "IPY_MODEL_24b46b9c90a34cfea87feba166dffe1e",
       "max": 2,
       "style": "IPY_MODEL_27e6d4b874c14e46ae0e9862af71793e",
       "value": 2
      }
     },
     "df34f8dc485d43059633c2f8f8360e9e": {
      "model_module": "@jupyter-widgets/controls",
      "model_module_version": "2.0.0",
      "model_name": "ProgressStyleModel",
      "state": {
       "description_width": ""
      }
     },
     "e9e7b466a6774813938d494271d6472e": {
      "model_module": "@jupyter-widgets/base",
      "model_module_version": "2.0.0",
      "model_name": "LayoutModel",
      "state": {}
     },
     "f06a34ea696e4a5696de89ead1b754a1": {
      "model_module": "@jupyter-widgets/controls",
      "model_module_version": "2.0.0",
      "model_name": "HTMLModel",
      "state": {
       "layout": "IPY_MODEL_9ffd4f857e6f4d70a622bbc836593efb",
       "style": "IPY_MODEL_a020a846a2874db08eeb269c62680ce7",
       "value": "Movies from 2002: 100%"
      }
     },
     "f9158e6209e64a809ddd4e6cfdeb2593": {
      "model_module": "@jupyter-widgets/base",
      "model_module_version": "2.0.0",
      "model_name": "LayoutModel",
      "state": {}
     }
    },
    "version_major": 2,
    "version_minor": 0
   }
  }
 },
 "nbformat": 4,
 "nbformat_minor": 5
}
