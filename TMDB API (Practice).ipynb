{
 "cells": [
  {
   "cell_type": "markdown",
   "id": "c154fcc2-2252-4670-8f3f-f0f3bcecb339",
   "metadata": {},
   "source": [
    "## Preparation BEFORE the Loop:\n",
    "\n",
    "- Designate a folder to save your information.\n",
    "- Define custom functions you will use for your API calls\n",
    "- Load your cleaned title basics data from Part 1 of Project 2 (or query your title_basics table in your MySQL database).\n",
    "- Define the year you wish to retrieve (2010) and create an empty list for appending error messages."
   ]
  },
  {
   "cell_type": "code",
   "execution_count": 1,
   "id": "7612bd4d-3f10-4bfd-bdae-518ab0c0a98d",
   "metadata": {},
   "outputs": [
    {
     "data": {
      "text/plain": [
       "['.ipynb_checkpoints',\n",
       " 'Create Movies Database.sql',\n",
       " 'IMDB Movie Dataset Info.docx',\n",
       " 'Project2 Model.mwb',\n",
       " 'Screenshot 2023-09-28 232300.png',\n",
       " 'title-akas-us-only.csv',\n",
       " 'title.basics-cleaned.tsv.gz',\n",
       " 'title.basics.tsv.gz',\n",
       " 'title.ratings-cleaned.tsv.gz',\n",
       " 'title.ratings.tsv.gz']"
      ]
     },
     "execution_count": 1,
     "metadata": {},
     "output_type": "execute_result"
    }
   ],
   "source": [
    "# Import packages\n",
    "import os, time, json\n",
    "import tmdbsimple as tmdb \n",
    "import pandas as pd\n",
    "from tqdm.notebook import tqdm_notebook\n",
    "# Create the folder for saving files (if it doesn't exist)\n",
    "FOLDER = \"Data/\"\n",
    "os.makedirs(FOLDER, exist_ok=True)\n",
    "os.listdir(FOLDER)"
   ]
  },
  {
   "cell_type": "code",
   "execution_count": 22,
   "id": "bc557dfb-4c6c-44d3-8cfe-74a92d4ae269",
   "metadata": {},
   "outputs": [
    {
     "data": {
      "text/plain": [
       "dict_keys(['api-key'])"
      ]
     },
     "execution_count": 22,
     "metadata": {},
     "output_type": "execute_result"
    }
   ],
   "source": [
    "import json\n",
    "with open('/Users/thoma/.secret/tmdb_api.json', 'r') as f:\n",
    "    login = json.load(f)\n",
    "## Display the keys of the loaded dict\n",
    "login.keys()"
   ]
  },
  {
   "cell_type": "code",
   "execution_count": 23,
   "id": "f27c51d8-2358-4e66-9750-771fa4511132",
   "metadata": {},
   "outputs": [],
   "source": [
    "import tmdbsimple as tmdb\n",
    "tmdb.API_KEY =  login['api-key']"
   ]
  },
  {
   "cell_type": "code",
   "execution_count": 21,
   "id": "fe1ae089-2960-4707-b493-1d9b234eae98",
   "metadata": {},
   "outputs": [],
   "source": [
    "def get_movie_with_rating(movie_id):\n",
    "    # Get the movie object for the current id\n",
    "    movie = tmdb.Movies(movie_id)\n",
    "    \n",
    "    # save the .info .releases dictionaries\n",
    "    movie_info = movie.info()\n",
    "    releases = movie.releases()\n",
    "    \n",
    "    # Loop through countries in releases\n",
    "    for c in releases['countries']:\n",
    "        # if the country abbreviation==US\n",
    "        if c['iso_3166_1' ] =='US':\n",
    "            ## save a \"certification\" key in the info dict with the certification\n",
    "            movie_info['certification'] = c['certification']\n",
    "    return movie_info\n",
    "\n",
    "def write_json(new_data, filename): \n",
    "    \"\"\"Appends a list of records (new_data) to a json file (filename). \n",
    "    Adapted from: https://www.geeksforgeeks.org/append-to-json-file-using-python/\"\"\"  \n",
    "    \n",
    "    with open(filename,'r+') as file:\n",
    "        # First we load existing data into a dict.\n",
    "        file_data = json.load(file)\n",
    "        ## Choose extend or append\n",
    "        if (type(new_data) == list) & (type(file_data) == list):\n",
    "            file_data.extend(new_data)\n",
    "        else:\n",
    "             file_data.append(new_data)\n",
    "        # Sets file's current position at offset.\n",
    "        file.seek(0)\n",
    "        # convert back to json.\n",
    "        json.dump(file_data, file)"
   ]
  },
  {
   "cell_type": "code",
   "execution_count": 4,
   "id": "88026962-2bb8-4e22-9108-39bb77194347",
   "metadata": {},
   "outputs": [],
   "source": [
    "# Load in the dataframe from project part 1 as basics:\n",
    "basics = pd.read_csv('Data/title.basics-cleaned.tsv.gz')"
   ]
  },
  {
   "cell_type": "code",
   "execution_count": 5,
   "id": "240300ad-f1d8-42d9-9311-581ae876a7f3",
   "metadata": {},
   "outputs": [],
   "source": [
    "YEAR = 2010"
   ]
  },
  {
   "cell_type": "code",
   "execution_count": 11,
   "id": "2592924c-5469-4712-a8e0-f376a7be83a4",
   "metadata": {},
   "outputs": [],
   "source": [
    "errors = [ ]"
   ]
  },
  {
   "cell_type": "markdown",
   "id": "2d0a3cb0-7cc2-4ea2-a188-f454f1a6c80a",
   "metadata": {},
   "source": [
    "## Prepare the DataFrame and JSON File\n",
    "\n",
    "- Use the selected year to define filenames and filter the data\n",
    "\n",
    "    - Define a JSON_FILE filename to save the results in progress.\n",
    "    - Check if the file exists.\n",
    "        - if it does not exist, create the empty JSON file with with open that just contains the key \"imdb_id\"\n",
    "        - if it exists, print a message saying that it already exists."
   ]
  },
  {
   "cell_type": "code",
   "execution_count": 10,
   "id": "75e65a17-84e9-4a9e-bd01-1d8cd090aa4d",
   "metadata": {},
   "outputs": [],
   "source": [
    "#Defining the JSON file to store results for year\n",
    "JSON_FILE = f'{FOLDER}tmdb_api_results_{YEAR}.json'"
   ]
  },
  {
   "cell_type": "code",
   "execution_count": 14,
   "id": "4eb80d33-110f-4221-9591-9000ad61737c",
   "metadata": {},
   "outputs": [
    {
     "data": {
      "text/plain": [
       "False"
      ]
     },
     "execution_count": 14,
     "metadata": {},
     "output_type": "execute_result"
    }
   ],
   "source": [
    "# Check if file exists\n",
    "file_exists = os.path.isfile(JSON_FILE)\n",
    "file_exists"
   ]
  },
  {
   "cell_type": "code",
   "execution_count": 15,
   "id": "150e4157-92c9-4114-81b8-285a534a2681",
   "metadata": {},
   "outputs": [
    {
     "name": "stdout",
     "output_type": "stream",
     "text": [
      "Creating Data/tmdb_api_results_2010.json for API results for 2010.\n"
     ]
    }
   ],
   "source": [
    "# If it does not exist: create it\n",
    "if file_exists == False:\n",
    "    # Print a message indicating the file is being created \n",
    "    print(f\"Creating {JSON_FILE} for API results for {YEAR}.\")\n",
    "    # save an empty dict with just \"imdb_id\" to the new json file.\n",
    "    with open(JSON_FILE,'w') as f:\n",
    "        json.dump([{'imdb_id':0}],f)"
   ]
  },
  {
   "cell_type": "code",
   "execution_count": 17,
   "id": "211cf2bb-4e0f-4ceb-b583-8e7647882d15",
   "metadata": {},
   "outputs": [
    {
     "data": {
      "text/plain": [
       "True"
      ]
     },
     "execution_count": 17,
     "metadata": {},
     "output_type": "execute_result"
    }
   ],
   "source": [
    "file_exists = os.path.isfile(JSON_FILE)\n",
    "file_exists"
   ]
  },
  {
   "cell_type": "markdown",
   "id": "9b6f4adb-2b3c-49d7-af12-7fe2ac4a58e1",
   "metadata": {},
   "source": [
    "## Now that the JSON file for the results in progress exists:\n",
    "\n",
    "- Filter the IMDB title basics data for the selected year and save the movie IDs from that year as \"movies_ids\".\n",
    "- Check the JSON file for previously downloaded movie IDs and filter out the movie ids that already exists in the JSON file ( to prevent duplicate API calls) by:\n",
    "    - Loading in the contents of the JSON file pd.read_json.\n",
    "        - Compare the movie_ids that were in the JSON file to your saved movie_ids_to_get.\n",
    "    - Save the final list of \"movie_ids_to_get\" by filtering out movies that already exists in the JSON file."
   ]
  },
  {
   "cell_type": "code",
   "execution_count": 24,
   "id": "930d8149-a219-41e9-86f8-717ff9d9c97c",
   "metadata": {},
   "outputs": [
    {
     "data": {
      "text/plain": [
       "1138    tt0230212\n",
       "3806    tt0312305\n",
       "4258    tt0326965\n",
       "4436    tt0331312\n",
       "6670    tt0393049\n",
       "Name: tconst, dtype: object"
      ]
     },
     "execution_count": 24,
     "metadata": {},
     "output_type": "execute_result"
    }
   ],
   "source": [
    "# Filtering for movies from selected startYear\n",
    "df = basics.loc[ basics['startYear']==YEAR].copy()\n",
    "# saving movie ids to list\n",
    "movie_ids = df['tconst']\n",
    "movie_ids.head()"
   ]
  },
  {
   "cell_type": "code",
   "execution_count": 25,
   "id": "cf9c8633-a3d2-4ccf-a537-062d71a60cbe",
   "metadata": {},
   "outputs": [
    {
     "data": {
      "text/html": [
       "<div>\n",
       "<style scoped>\n",
       "    .dataframe tbody tr th:only-of-type {\n",
       "        vertical-align: middle;\n",
       "    }\n",
       "\n",
       "    .dataframe tbody tr th {\n",
       "        vertical-align: top;\n",
       "    }\n",
       "\n",
       "    .dataframe thead th {\n",
       "        text-align: right;\n",
       "    }\n",
       "</style>\n",
       "<table border=\"1\" class=\"dataframe\">\n",
       "  <thead>\n",
       "    <tr style=\"text-align: right;\">\n",
       "      <th></th>\n",
       "      <th>imdb_id</th>\n",
       "    </tr>\n",
       "  </thead>\n",
       "  <tbody>\n",
       "    <tr>\n",
       "      <th>0</th>\n",
       "      <td>0</td>\n",
       "    </tr>\n",
       "  </tbody>\n",
       "</table>\n",
       "</div>"
      ],
      "text/plain": [
       "   imdb_id\n",
       "0        0"
      ]
     },
     "execution_count": 25,
     "metadata": {},
     "output_type": "execute_result"
    }
   ],
   "source": [
    "# Load existing data from json into a dataframe called \"previous_df\"\n",
    "previous_df = pd.read_json(JSON_FILE)\n",
    "previous_df"
   ]
  },
  {
   "cell_type": "code",
   "execution_count": 26,
   "id": "f95090a6-98b5-4981-adfe-c5004db04c38",
   "metadata": {},
   "outputs": [],
   "source": [
    "# filter out any ids that are already in the JSON_FILE\n",
    "movie_ids_to_get = movie_ids[~movie_ids.isin(previous_df['imdb_id'])]"
   ]
  },
  {
   "cell_type": "markdown",
   "id": "234bb907-29e6-4548-adbb-1f26f818ae49",
   "metadata": {},
   "source": [
    "## Perform the Loop of API Calls\n",
    "Note: you have already written a function to combine the certification with the rest of the .info() from the TMDB API results in the Intro to TMDB API lesson.\n",
    "\n",
    "Create a loop to make API calls for each id in the YEAR specified. Include a progress bar using tqdm_notebook\n",
    "\n",
    "**For each movie id:**\n",
    "\n",
    "- Extract the current ID from the API and retrieve the dictionary of results\n",
    "- Append the new results to the list from the JSON file\n",
    "- Save the updated JSON file back to the disk"
   ]
  },
  {
   "cell_type": "code",
   "execution_count": 27,
   "id": "60a935dd-8df0-47cb-bbb9-4d492a54c909",
   "metadata": {},
   "outputs": [
    {
     "data": {
      "application/vnd.jupyter.widget-view+json": {
       "model_id": "df52c614617d45e2b235040694f3782c",
       "version_major": 2,
       "version_minor": 0
      },
      "text/plain": [
       "Movies from 2010:   0%|          | 0/3862 [00:00<?, ?it/s]"
      ]
     },
     "metadata": {},
     "output_type": "display_data"
    }
   ],
   "source": [
    "# Loop through movie_ids_to_get with a tqdm progress bar\n",
    "for movie_id in tqdm_notebook(movie_ids_to_get, f\"Movies from {YEAR}\"):\n",
    "\n",
    "    # Attempt to retrieve then data for the movie id\n",
    "    try:\n",
    "        temp = get_movie_with_rating(movie_id)  #This uses your pre-ma    de function\n",
    "        # Append/extend results to existing file using a pre-made function\n",
    "        write_json(temp,JSON_FILE)\n",
    "        # Short 20 ms sleep to prevent overwhelming server\n",
    "        time.sleep(0.02)\n",
    "\n",
    "    # If it fails,  make a dict with just the id and None for certification.\n",
    "    except Exception as e:\n",
    "        errors.append([movie_id, e])"
   ]
  },
  {
   "cell_type": "code",
   "execution_count": 28,
   "id": "a380d9c5-6a9a-48b5-bed8-ef65b5ca0cdd",
   "metadata": {},
   "outputs": [
    {
     "name": "stdout",
     "output_type": "stream",
     "text": [
      "- Total errors: 1131\n"
     ]
    }
   ],
   "source": [
    "print(f\"- Total errors: {len(errors)}\")"
   ]
  },
  {
   "cell_type": "markdown",
   "id": "f7dcca72-6f0c-410d-9416-0c29fec7d9c4",
   "metadata": {},
   "source": [
    "## Save the Results to Compressed .csv\n",
    "- After the loop, save the final results for the year as a csv.gz file with the year in the filename."
   ]
  },
  {
   "cell_type": "code",
   "execution_count": 29,
   "id": "8eb99d79-7377-4754-ba1b-688e02c194f6",
   "metadata": {},
   "outputs": [],
   "source": [
    "final_year_df = pd.read_json(JSON_FILE)\n",
    "final_year_df.to_csv(f\"{FOLDER}final_tmdb_data_{YEAR}.csv.gz\", compression=\"gzip\", index=False)"
   ]
  }
 ],
 "metadata": {
  "kernelspec": {
   "display_name": "Python 3 (ipykernel)",
   "language": "python",
   "name": "python3"
  },
  "language_info": {
   "codemirror_mode": {
    "name": "ipython",
    "version": 3
   },
   "file_extension": ".py",
   "mimetype": "text/x-python",
   "name": "python",
   "nbconvert_exporter": "python",
   "pygments_lexer": "ipython3",
   "version": "3.10.10"
  },
  "widgets": {
   "application/vnd.jupyter.widget-state+json": {
    "state": {
     "3401c65cba1f401681d00bf135655b15": {
      "model_module": "@jupyter-widgets/base",
      "model_module_version": "2.0.0",
      "model_name": "LayoutModel",
      "state": {}
     },
     "400c44dfbe6c4ccdb8a105e3e933726e": {
      "model_module": "@jupyter-widgets/base",
      "model_module_version": "2.0.0",
      "model_name": "LayoutModel",
      "state": {}
     },
     "4101d3e225d7404783cc09d4e8822ec1": {
      "model_module": "@jupyter-widgets/controls",
      "model_module_version": "2.0.0",
      "model_name": "HTMLStyleModel",
      "state": {
       "description_width": "",
       "font_size": null,
       "text_color": null
      }
     },
     "4751a29f4c184bb48a7de4753be5f4a6": {
      "model_module": "@jupyter-widgets/controls",
      "model_module_version": "2.0.0",
      "model_name": "ProgressStyleModel",
      "state": {
       "description_width": ""
      }
     },
     "4cbb8503c4d34552af30a192d820c10f": {
      "model_module": "@jupyter-widgets/controls",
      "model_module_version": "2.0.0",
      "model_name": "FloatProgressModel",
      "state": {
       "bar_style": "success",
       "layout": "IPY_MODEL_e3e23c1b7fbc4df39ed57da79f7e85fb",
       "max": 3862,
       "style": "IPY_MODEL_4751a29f4c184bb48a7de4753be5f4a6",
       "value": 3862
      }
     },
     "4ead6a17ea564cc3aebbe3fbcd35d3b8": {
      "model_module": "@jupyter-widgets/controls",
      "model_module_version": "2.0.0",
      "model_name": "HTMLModel",
      "state": {
       "layout": "IPY_MODEL_400c44dfbe6c4ccdb8a105e3e933726e",
       "style": "IPY_MODEL_4101d3e225d7404783cc09d4e8822ec1",
       "value": "Movies from 2010: 100%"
      }
     },
     "562dc5478fa64807860acd8803a0b094": {
      "model_module": "@jupyter-widgets/controls",
      "model_module_version": "2.0.0",
      "model_name": "HTMLModel",
      "state": {
       "layout": "IPY_MODEL_3401c65cba1f401681d00bf135655b15",
       "style": "IPY_MODEL_a3829375ed454d90a1ba986b1f8746f7",
       "value": " 3862/3862 [34:07&lt;00:00,  1.73it/s]"
      }
     },
     "a3829375ed454d90a1ba986b1f8746f7": {
      "model_module": "@jupyter-widgets/controls",
      "model_module_version": "2.0.0",
      "model_name": "HTMLStyleModel",
      "state": {
       "description_width": "",
       "font_size": null,
       "text_color": null
      }
     },
     "b8a01d01ab83481ab38507c211840fc9": {
      "model_module": "@jupyter-widgets/base",
      "model_module_version": "2.0.0",
      "model_name": "LayoutModel",
      "state": {}
     },
     "df52c614617d45e2b235040694f3782c": {
      "model_module": "@jupyter-widgets/controls",
      "model_module_version": "2.0.0",
      "model_name": "HBoxModel",
      "state": {
       "children": [
        "IPY_MODEL_4ead6a17ea564cc3aebbe3fbcd35d3b8",
        "IPY_MODEL_4cbb8503c4d34552af30a192d820c10f",
        "IPY_MODEL_562dc5478fa64807860acd8803a0b094"
       ],
       "layout": "IPY_MODEL_b8a01d01ab83481ab38507c211840fc9"
      }
     },
     "e3e23c1b7fbc4df39ed57da79f7e85fb": {
      "model_module": "@jupyter-widgets/base",
      "model_module_version": "2.0.0",
      "model_name": "LayoutModel",
      "state": {}
     }
    },
    "version_major": 2,
    "version_minor": 0
   }
  }
 },
 "nbformat": 4,
 "nbformat_minor": 5
}
