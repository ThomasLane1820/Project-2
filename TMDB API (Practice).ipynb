{
 "cells": [
  {
   "cell_type": "markdown",
   "id": "c154fcc2-2252-4670-8f3f-f0f3bcecb339",
   "metadata": {},
   "source": [
    "## Preparation BEFORE the Loop:\n",
    "\n",
    "- Designate a folder to save your information.\n",
    "- Define custom functions you will use for your API calls\n",
    "- Load your cleaned title basics data from Part 1 of Project 2 (or query your title_basics table in your MySQL database).\n",
    "- Define the year you wish to retrieve (2010) and create an empty list for appending error messages."
   ]
  },
  {
   "cell_type": "code",
   "execution_count": 1,
   "id": "7612bd4d-3f10-4bfd-bdae-518ab0c0a98d",
   "metadata": {},
   "outputs": [
    {
     "data": {
      "text/plain": [
       "['.ipynb_checkpoints',\n",
       " 'Create Movies Database.sql',\n",
       " 'final_tmdb_data_2010.csv.gz',\n",
       " 'IMDB Movie Dataset Info.docx',\n",
       " 'Project2 Model.mwb',\n",
       " 'Screenshot 2023-09-28 232300.png',\n",
       " 'title-akas-us-only.csv',\n",
       " 'title.basics-cleaned.tsv.gz',\n",
       " 'title.basics.tsv.gz',\n",
       " 'title.ratings-cleaned.tsv.gz',\n",
       " 'title.ratings.tsv.gz',\n",
       " 'tmdb_api_results_2010.json']"
      ]
     },
     "execution_count": 1,
     "metadata": {},
     "output_type": "execute_result"
    }
   ],
   "source": [
    "# Import packages\n",
    "import os, time, json\n",
    "import tmdbsimple as tmdb \n",
    "import pandas as pd\n",
    "from tqdm.notebook import tqdm_notebook\n",
    "# Create the folder for saving files (if it doesn't exist)\n",
    "FOLDER = \"Data/\"\n",
    "os.makedirs(FOLDER, exist_ok=True)\n",
    "os.listdir(FOLDER)"
   ]
  },
  {
   "cell_type": "code",
   "execution_count": 2,
   "id": "bc557dfb-4c6c-44d3-8cfe-74a92d4ae269",
   "metadata": {},
   "outputs": [
    {
     "data": {
      "text/plain": [
       "dict_keys(['api-key'])"
      ]
     },
     "execution_count": 2,
     "metadata": {},
     "output_type": "execute_result"
    }
   ],
   "source": [
    "import json\n",
    "with open('/Users/thoma/.secret/tmdb_api.json', 'r') as f:\n",
    "    login = json.load(f)\n",
    "## Display the keys of the loaded dict\n",
    "login.keys()"
   ]
  },
  {
   "cell_type": "code",
   "execution_count": 3,
   "id": "f27c51d8-2358-4e66-9750-771fa4511132",
   "metadata": {},
   "outputs": [],
   "source": [
    "import tmdbsimple as tmdb\n",
    "tmdb.API_KEY =  login['api-key']"
   ]
  },
  {
   "cell_type": "code",
   "execution_count": 4,
   "id": "fe1ae089-2960-4707-b493-1d9b234eae98",
   "metadata": {},
   "outputs": [],
   "source": [
    "def get_movie_with_rating(movie_id):\n",
    "    # Get the movie object for the current id\n",
    "    movie = tmdb.Movies(movie_id)\n",
    "    \n",
    "    # save the .info .releases dictionaries\n",
    "    movie_info = movie.info()\n",
    "    releases = movie.releases()\n",
    "    \n",
    "    # Loop through countries in releases\n",
    "    for c in releases['countries']:\n",
    "        # if the country abbreviation==US\n",
    "        if c['iso_3166_1' ] =='US':\n",
    "            ## save a \"certification\" key in the info dict with the certification\n",
    "            movie_info['certification'] = c['certification']\n",
    "    return movie_info\n",
    "\n",
    "def write_json(new_data, filename): \n",
    "    \"\"\"Appends a list of records (new_data) to a json file (filename). \n",
    "    Adapted from: https://www.geeksforgeeks.org/append-to-json-file-using-python/\"\"\"  \n",
    "    \n",
    "    with open(filename,'r+') as file:\n",
    "        # First we load existing data into a dict.\n",
    "        file_data = json.load(file)\n",
    "        ## Choose extend or append\n",
    "        if (type(new_data) == list) & (type(file_data) == list):\n",
    "            file_data.extend(new_data)\n",
    "        else:\n",
    "             file_data.append(new_data)\n",
    "        # Sets file's current position at offset.\n",
    "        file.seek(0)\n",
    "        # convert back to json.\n",
    "        json.dump(file_data, file)"
   ]
  },
  {
   "cell_type": "code",
   "execution_count": 5,
   "id": "88026962-2bb8-4e22-9108-39bb77194347",
   "metadata": {},
   "outputs": [],
   "source": [
    "# Load in the dataframe from project part 1 as basics:\n",
    "basics = pd.read_csv('Data/title.basics-cleaned.tsv.gz')"
   ]
  },
  {
   "cell_type": "code",
   "execution_count": 6,
   "id": "240300ad-f1d8-42d9-9311-581ae876a7f3",
   "metadata": {},
   "outputs": [],
   "source": [
    "YEAR = 2010"
   ]
  },
  {
   "cell_type": "code",
   "execution_count": 7,
   "id": "2592924c-5469-4712-a8e0-f376a7be83a4",
   "metadata": {},
   "outputs": [],
   "source": [
    "errors = [ ]"
   ]
  },
  {
   "cell_type": "markdown",
   "id": "2d0a3cb0-7cc2-4ea2-a188-f454f1a6c80a",
   "metadata": {},
   "source": [
    "## Prepare the DataFrame and JSON File\n",
    "\n",
    "- Use the selected year to define filenames and filter the data\n",
    "\n",
    "    - Define a JSON_FILE filename to save the results in progress.\n",
    "    - Check if the file exists.\n",
    "        - if it does not exist, create the empty JSON file with with open that just contains the key \"imdb_id\"\n",
    "        - if it exists, print a message saying that it already exists."
   ]
  },
  {
   "cell_type": "code",
   "execution_count": 8,
   "id": "75e65a17-84e9-4a9e-bd01-1d8cd090aa4d",
   "metadata": {},
   "outputs": [],
   "source": [
    "#Defining the JSON file to store results for year\n",
    "JSON_FILE = f'{FOLDER}tmdb_api_results_{YEAR}.json'"
   ]
  },
  {
   "cell_type": "code",
   "execution_count": 9,
   "id": "4eb80d33-110f-4221-9591-9000ad61737c",
   "metadata": {},
   "outputs": [
    {
     "data": {
      "text/plain": [
       "True"
      ]
     },
     "execution_count": 9,
     "metadata": {},
     "output_type": "execute_result"
    }
   ],
   "source": [
    "# Check if file exists\n",
    "file_exists = os.path.isfile(JSON_FILE)\n",
    "file_exists"
   ]
  },
  {
   "cell_type": "code",
   "execution_count": 10,
   "id": "150e4157-92c9-4114-81b8-285a534a2681",
   "metadata": {},
   "outputs": [],
   "source": [
    "# If it does not exist: create it\n",
    "if file_exists == False:\n",
    "    # Print a message indicating the file is being created \n",
    "    print(f\"Creating {JSON_FILE} for API results for {YEAR}.\")\n",
    "    # save an empty dict with just \"imdb_id\" to the new json file.\n",
    "    with open(JSON_FILE,'w') as f:\n",
    "        json.dump([{'imdb_id':0}],f)"
   ]
  },
  {
   "cell_type": "code",
   "execution_count": 11,
   "id": "211cf2bb-4e0f-4ceb-b583-8e7647882d15",
   "metadata": {},
   "outputs": [
    {
     "data": {
      "text/plain": [
       "True"
      ]
     },
     "execution_count": 11,
     "metadata": {},
     "output_type": "execute_result"
    }
   ],
   "source": [
    "file_exists = os.path.isfile(JSON_FILE)\n",
    "file_exists"
   ]
  },
  {
   "cell_type": "markdown",
   "id": "9b6f4adb-2b3c-49d7-af12-7fe2ac4a58e1",
   "metadata": {},
   "source": [
    "## Now that the JSON file for the results in progress exists:\n",
    "\n",
    "- Filter the IMDB title basics data for the selected year and save the movie IDs from that year as \"movies_ids\".\n",
    "- Check the JSON file for previously downloaded movie IDs and filter out the movie ids that already exists in the JSON file ( to prevent duplicate API calls) by:\n",
    "    - Loading in the contents of the JSON file pd.read_json.\n",
    "        - Compare the movie_ids that were in the JSON file to your saved movie_ids_to_get.\n",
    "    - Save the final list of \"movie_ids_to_get\" by filtering out movies that already exists in the JSON file."
   ]
  },
  {
   "cell_type": "code",
   "execution_count": 12,
   "id": "930d8149-a219-41e9-86f8-717ff9d9c97c",
   "metadata": {},
   "outputs": [
    {
     "data": {
      "text/plain": [
       "1138    tt0230212\n",
       "3806    tt0312305\n",
       "4258    tt0326965\n",
       "4436    tt0331312\n",
       "6670    tt0393049\n",
       "Name: tconst, dtype: object"
      ]
     },
     "execution_count": 12,
     "metadata": {},
     "output_type": "execute_result"
    }
   ],
   "source": [
    "# Filtering for movies from selected startYear\n",
    "df = basics.loc[ basics['startYear']==YEAR].copy()\n",
    "# saving movie ids to list\n",
    "movie_ids = df['tconst']\n",
    "movie_ids.head()"
   ]
  },
  {
   "cell_type": "code",
   "execution_count": 13,
   "id": "cf9c8633-a3d2-4ccf-a537-062d71a60cbe",
   "metadata": {},
   "outputs": [
    {
     "data": {
      "text/html": [
       "<div>\n",
       "<style scoped>\n",
       "    .dataframe tbody tr th:only-of-type {\n",
       "        vertical-align: middle;\n",
       "    }\n",
       "\n",
       "    .dataframe tbody tr th {\n",
       "        vertical-align: top;\n",
       "    }\n",
       "\n",
       "    .dataframe thead th {\n",
       "        text-align: right;\n",
       "    }\n",
       "</style>\n",
       "<table border=\"1\" class=\"dataframe\">\n",
       "  <thead>\n",
       "    <tr style=\"text-align: right;\">\n",
       "      <th></th>\n",
       "      <th>imdb_id</th>\n",
       "      <th>adult</th>\n",
       "      <th>backdrop_path</th>\n",
       "      <th>belongs_to_collection</th>\n",
       "      <th>budget</th>\n",
       "      <th>genres</th>\n",
       "      <th>homepage</th>\n",
       "      <th>id</th>\n",
       "      <th>original_language</th>\n",
       "      <th>original_title</th>\n",
       "      <th>...</th>\n",
       "      <th>revenue</th>\n",
       "      <th>runtime</th>\n",
       "      <th>spoken_languages</th>\n",
       "      <th>status</th>\n",
       "      <th>tagline</th>\n",
       "      <th>title</th>\n",
       "      <th>video</th>\n",
       "      <th>vote_average</th>\n",
       "      <th>vote_count</th>\n",
       "      <th>certification</th>\n",
       "    </tr>\n",
       "  </thead>\n",
       "  <tbody>\n",
       "    <tr>\n",
       "      <th>0</th>\n",
       "      <td>0</td>\n",
       "      <td>NaN</td>\n",
       "      <td>NaN</td>\n",
       "      <td>NaN</td>\n",
       "      <td>NaN</td>\n",
       "      <td>NaN</td>\n",
       "      <td>NaN</td>\n",
       "      <td>NaN</td>\n",
       "      <td>NaN</td>\n",
       "      <td>NaN</td>\n",
       "      <td>...</td>\n",
       "      <td>NaN</td>\n",
       "      <td>NaN</td>\n",
       "      <td>NaN</td>\n",
       "      <td>NaN</td>\n",
       "      <td>NaN</td>\n",
       "      <td>NaN</td>\n",
       "      <td>NaN</td>\n",
       "      <td>NaN</td>\n",
       "      <td>NaN</td>\n",
       "      <td>NaN</td>\n",
       "    </tr>\n",
       "    <tr>\n",
       "      <th>1</th>\n",
       "      <td>tt0312305</td>\n",
       "      <td>0.0</td>\n",
       "      <td>/lqUbt2cy2pnqvxKefbQAtxLS0WA.jpg</td>\n",
       "      <td>None</td>\n",
       "      <td>0.0</td>\n",
       "      <td>[{'id': 10751, 'name': 'Family'}, {'id': 16, '...</td>\n",
       "      <td>http://www.qqthemovie.com/</td>\n",
       "      <td>23738.0</td>\n",
       "      <td>en</td>\n",
       "      <td>Quantum Quest: A Cassini Space Odyssey</td>\n",
       "      <td>...</td>\n",
       "      <td>0.0</td>\n",
       "      <td>45.0</td>\n",
       "      <td>[{'english_name': 'English', 'iso_639_1': 'en'...</td>\n",
       "      <td>Released</td>\n",
       "      <td></td>\n",
       "      <td>Quantum Quest: A Cassini Space Odyssey</td>\n",
       "      <td>0.0</td>\n",
       "      <td>7.900</td>\n",
       "      <td>8.0</td>\n",
       "      <td></td>\n",
       "    </tr>\n",
       "    <tr>\n",
       "      <th>2</th>\n",
       "      <td>tt0326965</td>\n",
       "      <td>0.0</td>\n",
       "      <td>/xt2klJdKCVGXcoBGQrGfAS0aGDE.jpg</td>\n",
       "      <td>None</td>\n",
       "      <td>0.0</td>\n",
       "      <td>[{'id': 53, 'name': 'Thriller'}, {'id': 9648, ...</td>\n",
       "      <td>http://www.inmysleep.com</td>\n",
       "      <td>40048.0</td>\n",
       "      <td>en</td>\n",
       "      <td>In My Sleep</td>\n",
       "      <td>...</td>\n",
       "      <td>0.0</td>\n",
       "      <td>90.0</td>\n",
       "      <td>[{'english_name': 'English', 'iso_639_1': 'en'...</td>\n",
       "      <td>Released</td>\n",
       "      <td>Sleepwalking can be deadly.</td>\n",
       "      <td>In My Sleep</td>\n",
       "      <td>0.0</td>\n",
       "      <td>5.318</td>\n",
       "      <td>33.0</td>\n",
       "      <td>PG-13</td>\n",
       "    </tr>\n",
       "    <tr>\n",
       "      <th>3</th>\n",
       "      <td>tt0331312</td>\n",
       "      <td>0.0</td>\n",
       "      <td>None</td>\n",
       "      <td>None</td>\n",
       "      <td>0.0</td>\n",
       "      <td>[]</td>\n",
       "      <td></td>\n",
       "      <td>214026.0</td>\n",
       "      <td>en</td>\n",
       "      <td>This Wretched Life</td>\n",
       "      <td>...</td>\n",
       "      <td>0.0</td>\n",
       "      <td>0.0</td>\n",
       "      <td>[]</td>\n",
       "      <td>Released</td>\n",
       "      <td></td>\n",
       "      <td>This Wretched Life</td>\n",
       "      <td>0.0</td>\n",
       "      <td>5.000</td>\n",
       "      <td>1.0</td>\n",
       "      <td></td>\n",
       "    </tr>\n",
       "    <tr>\n",
       "      <th>4</th>\n",
       "      <td>tt0393049</td>\n",
       "      <td>0.0</td>\n",
       "      <td>/gc9FN5zohhzCt05RkejQIIPLtBl.jpg</td>\n",
       "      <td>None</td>\n",
       "      <td>300000.0</td>\n",
       "      <td>[{'id': 10749, 'name': 'Romance'}, {'id': 35, ...</td>\n",
       "      <td></td>\n",
       "      <td>324352.0</td>\n",
       "      <td>en</td>\n",
       "      <td>Anderson's Cross</td>\n",
       "      <td>...</td>\n",
       "      <td>0.0</td>\n",
       "      <td>98.0</td>\n",
       "      <td>[{'english_name': 'English', 'iso_639_1': 'en'...</td>\n",
       "      <td>Released</td>\n",
       "      <td>Sometimes the boy next door is more than the b...</td>\n",
       "      <td>Anderson's Cross</td>\n",
       "      <td>0.0</td>\n",
       "      <td>4.000</td>\n",
       "      <td>5.0</td>\n",
       "      <td></td>\n",
       "    </tr>\n",
       "    <tr>\n",
       "      <th>...</th>\n",
       "      <td>...</td>\n",
       "      <td>...</td>\n",
       "      <td>...</td>\n",
       "      <td>...</td>\n",
       "      <td>...</td>\n",
       "      <td>...</td>\n",
       "      <td>...</td>\n",
       "      <td>...</td>\n",
       "      <td>...</td>\n",
       "      <td>...</td>\n",
       "      <td>...</td>\n",
       "      <td>...</td>\n",
       "      <td>...</td>\n",
       "      <td>...</td>\n",
       "      <td>...</td>\n",
       "      <td>...</td>\n",
       "      <td>...</td>\n",
       "      <td>...</td>\n",
       "      <td>...</td>\n",
       "      <td>...</td>\n",
       "      <td>...</td>\n",
       "    </tr>\n",
       "    <tr>\n",
       "      <th>2727</th>\n",
       "      <td>tt7851834</td>\n",
       "      <td>0.0</td>\n",
       "      <td>/c4x2XPngdiW8Vmc6EmmTXAgzViJ.jpg</td>\n",
       "      <td>None</td>\n",
       "      <td>0.0</td>\n",
       "      <td>[{'id': 18, 'name': 'Drama'}]</td>\n",
       "      <td></td>\n",
       "      <td>166919.0</td>\n",
       "      <td>ko</td>\n",
       "      <td>여의도</td>\n",
       "      <td>...</td>\n",
       "      <td>0.0</td>\n",
       "      <td>88.0</td>\n",
       "      <td>[{'english_name': 'Korean', 'iso_639_1': 'ko',...</td>\n",
       "      <td>Released</td>\n",
       "      <td></td>\n",
       "      <td>A Friend In Need</td>\n",
       "      <td>0.0</td>\n",
       "      <td>5.000</td>\n",
       "      <td>3.0</td>\n",
       "      <td>NaN</td>\n",
       "    </tr>\n",
       "    <tr>\n",
       "      <th>2728</th>\n",
       "      <td>tt8090084</td>\n",
       "      <td>0.0</td>\n",
       "      <td>None</td>\n",
       "      <td>None</td>\n",
       "      <td>0.0</td>\n",
       "      <td>[{'id': 35, 'name': 'Comedy'}]</td>\n",
       "      <td></td>\n",
       "      <td>516206.0</td>\n",
       "      <td>en</td>\n",
       "      <td>Goodbye Dolly</td>\n",
       "      <td>...</td>\n",
       "      <td>0.0</td>\n",
       "      <td>46.0</td>\n",
       "      <td>[{'english_name': 'English', 'iso_639_1': 'en'...</td>\n",
       "      <td>Released</td>\n",
       "      <td></td>\n",
       "      <td>Goodbye Dolly</td>\n",
       "      <td>0.0</td>\n",
       "      <td>0.000</td>\n",
       "      <td>0.0</td>\n",
       "      <td></td>\n",
       "    </tr>\n",
       "    <tr>\n",
       "      <th>2729</th>\n",
       "      <td>tt8160720</td>\n",
       "      <td>0.0</td>\n",
       "      <td>None</td>\n",
       "      <td>None</td>\n",
       "      <td>0.0</td>\n",
       "      <td>[]</td>\n",
       "      <td></td>\n",
       "      <td>273502.0</td>\n",
       "      <td>en</td>\n",
       "      <td>Moist Fury</td>\n",
       "      <td>...</td>\n",
       "      <td>0.0</td>\n",
       "      <td>65.0</td>\n",
       "      <td>[]</td>\n",
       "      <td>Released</td>\n",
       "      <td></td>\n",
       "      <td>Moist Fury</td>\n",
       "      <td>0.0</td>\n",
       "      <td>6.000</td>\n",
       "      <td>2.0</td>\n",
       "      <td></td>\n",
       "    </tr>\n",
       "    <tr>\n",
       "      <th>2730</th>\n",
       "      <td>tt9164254</td>\n",
       "      <td>1.0</td>\n",
       "      <td>None</td>\n",
       "      <td>None</td>\n",
       "      <td>0.0</td>\n",
       "      <td>[]</td>\n",
       "      <td></td>\n",
       "      <td>775304.0</td>\n",
       "      <td>en</td>\n",
       "      <td>Text, Lies and Video</td>\n",
       "      <td>...</td>\n",
       "      <td>0.0</td>\n",
       "      <td>103.0</td>\n",
       "      <td>[{'english_name': 'English', 'iso_639_1': 'en'...</td>\n",
       "      <td>Released</td>\n",
       "      <td>Download Deception. Upload Revenge.</td>\n",
       "      <td>Text, Lies and Video</td>\n",
       "      <td>0.0</td>\n",
       "      <td>0.000</td>\n",
       "      <td>0.0</td>\n",
       "      <td>NC-17</td>\n",
       "    </tr>\n",
       "    <tr>\n",
       "      <th>2731</th>\n",
       "      <td>tt9575206</td>\n",
       "      <td>0.0</td>\n",
       "      <td>/yejvp5VvZa6TnXodrQsYUKzF4Cs.jpg</td>\n",
       "      <td>None</td>\n",
       "      <td>0.0</td>\n",
       "      <td>[{'id': 18, 'name': 'Drama'}]</td>\n",
       "      <td></td>\n",
       "      <td>574744.0</td>\n",
       "      <td>fa</td>\n",
       "      <td>پنهان</td>\n",
       "      <td>...</td>\n",
       "      <td>0.0</td>\n",
       "      <td>90.0</td>\n",
       "      <td>[{'english_name': 'Persian', 'iso_639_1': 'fa'...</td>\n",
       "      <td>Released</td>\n",
       "      <td></td>\n",
       "      <td>Private</td>\n",
       "      <td>0.0</td>\n",
       "      <td>0.000</td>\n",
       "      <td>0.0</td>\n",
       "      <td>NaN</td>\n",
       "    </tr>\n",
       "  </tbody>\n",
       "</table>\n",
       "<p>2732 rows × 26 columns</p>\n",
       "</div>"
      ],
      "text/plain": [
       "        imdb_id  adult                     backdrop_path  \\\n",
       "0             0    NaN                               NaN   \n",
       "1     tt0312305    0.0  /lqUbt2cy2pnqvxKefbQAtxLS0WA.jpg   \n",
       "2     tt0326965    0.0  /xt2klJdKCVGXcoBGQrGfAS0aGDE.jpg   \n",
       "3     tt0331312    0.0                              None   \n",
       "4     tt0393049    0.0  /gc9FN5zohhzCt05RkejQIIPLtBl.jpg   \n",
       "...         ...    ...                               ...   \n",
       "2727  tt7851834    0.0  /c4x2XPngdiW8Vmc6EmmTXAgzViJ.jpg   \n",
       "2728  tt8090084    0.0                              None   \n",
       "2729  tt8160720    0.0                              None   \n",
       "2730  tt9164254    1.0                              None   \n",
       "2731  tt9575206    0.0  /yejvp5VvZa6TnXodrQsYUKzF4Cs.jpg   \n",
       "\n",
       "     belongs_to_collection    budget  \\\n",
       "0                      NaN       NaN   \n",
       "1                     None       0.0   \n",
       "2                     None       0.0   \n",
       "3                     None       0.0   \n",
       "4                     None  300000.0   \n",
       "...                    ...       ...   \n",
       "2727                  None       0.0   \n",
       "2728                  None       0.0   \n",
       "2729                  None       0.0   \n",
       "2730                  None       0.0   \n",
       "2731                  None       0.0   \n",
       "\n",
       "                                                 genres  \\\n",
       "0                                                   NaN   \n",
       "1     [{'id': 10751, 'name': 'Family'}, {'id': 16, '...   \n",
       "2     [{'id': 53, 'name': 'Thriller'}, {'id': 9648, ...   \n",
       "3                                                    []   \n",
       "4     [{'id': 10749, 'name': 'Romance'}, {'id': 35, ...   \n",
       "...                                                 ...   \n",
       "2727                      [{'id': 18, 'name': 'Drama'}]   \n",
       "2728                     [{'id': 35, 'name': 'Comedy'}]   \n",
       "2729                                                 []   \n",
       "2730                                                 []   \n",
       "2731                      [{'id': 18, 'name': 'Drama'}]   \n",
       "\n",
       "                        homepage        id original_language  \\\n",
       "0                            NaN       NaN               NaN   \n",
       "1     http://www.qqthemovie.com/   23738.0                en   \n",
       "2       http://www.inmysleep.com   40048.0                en   \n",
       "3                                 214026.0                en   \n",
       "4                                 324352.0                en   \n",
       "...                          ...       ...               ...   \n",
       "2727                              166919.0                ko   \n",
       "2728                              516206.0                en   \n",
       "2729                              273502.0                en   \n",
       "2730                              775304.0                en   \n",
       "2731                              574744.0                fa   \n",
       "\n",
       "                              original_title  ... revenue  runtime  \\\n",
       "0                                        NaN  ...     NaN      NaN   \n",
       "1     Quantum Quest: A Cassini Space Odyssey  ...     0.0     45.0   \n",
       "2                                In My Sleep  ...     0.0     90.0   \n",
       "3                         This Wretched Life  ...     0.0      0.0   \n",
       "4                           Anderson's Cross  ...     0.0     98.0   \n",
       "...                                      ...  ...     ...      ...   \n",
       "2727                                     여의도  ...     0.0     88.0   \n",
       "2728                           Goodbye Dolly  ...     0.0     46.0   \n",
       "2729                              Moist Fury  ...     0.0     65.0   \n",
       "2730                    Text, Lies and Video  ...     0.0    103.0   \n",
       "2731                                   پنهان  ...     0.0     90.0   \n",
       "\n",
       "                                       spoken_languages    status  \\\n",
       "0                                                   NaN       NaN   \n",
       "1     [{'english_name': 'English', 'iso_639_1': 'en'...  Released   \n",
       "2     [{'english_name': 'English', 'iso_639_1': 'en'...  Released   \n",
       "3                                                    []  Released   \n",
       "4     [{'english_name': 'English', 'iso_639_1': 'en'...  Released   \n",
       "...                                                 ...       ...   \n",
       "2727  [{'english_name': 'Korean', 'iso_639_1': 'ko',...  Released   \n",
       "2728  [{'english_name': 'English', 'iso_639_1': 'en'...  Released   \n",
       "2729                                                 []  Released   \n",
       "2730  [{'english_name': 'English', 'iso_639_1': 'en'...  Released   \n",
       "2731  [{'english_name': 'Persian', 'iso_639_1': 'fa'...  Released   \n",
       "\n",
       "                                                tagline  \\\n",
       "0                                                   NaN   \n",
       "1                                                         \n",
       "2                           Sleepwalking can be deadly.   \n",
       "3                                                         \n",
       "4     Sometimes the boy next door is more than the b...   \n",
       "...                                                 ...   \n",
       "2727                                                      \n",
       "2728                                                      \n",
       "2729                                                      \n",
       "2730                Download Deception. Upload Revenge.   \n",
       "2731                                                      \n",
       "\n",
       "                                       title  video  vote_average vote_count  \\\n",
       "0                                        NaN    NaN           NaN        NaN   \n",
       "1     Quantum Quest: A Cassini Space Odyssey    0.0         7.900        8.0   \n",
       "2                                In My Sleep    0.0         5.318       33.0   \n",
       "3                         This Wretched Life    0.0         5.000        1.0   \n",
       "4                           Anderson's Cross    0.0         4.000        5.0   \n",
       "...                                      ...    ...           ...        ...   \n",
       "2727                        A Friend In Need    0.0         5.000        3.0   \n",
       "2728                           Goodbye Dolly    0.0         0.000        0.0   \n",
       "2729                              Moist Fury    0.0         6.000        2.0   \n",
       "2730                    Text, Lies and Video    0.0         0.000        0.0   \n",
       "2731                                 Private    0.0         0.000        0.0   \n",
       "\n",
       "     certification  \n",
       "0              NaN  \n",
       "1                   \n",
       "2            PG-13  \n",
       "3                   \n",
       "4                   \n",
       "...            ...  \n",
       "2727           NaN  \n",
       "2728                \n",
       "2729                \n",
       "2730         NC-17  \n",
       "2731           NaN  \n",
       "\n",
       "[2732 rows x 26 columns]"
      ]
     },
     "execution_count": 13,
     "metadata": {},
     "output_type": "execute_result"
    }
   ],
   "source": [
    "# Load existing data from json into a dataframe called \"previous_df\"\n",
    "previous_df = pd.read_json(JSON_FILE)\n",
    "previous_df"
   ]
  },
  {
   "cell_type": "code",
   "execution_count": 14,
   "id": "f95090a6-98b5-4981-adfe-c5004db04c38",
   "metadata": {},
   "outputs": [],
   "source": [
    "# filter out any ids that are already in the JSON_FILE\n",
    "movie_ids_to_get = movie_ids[~movie_ids.isin(previous_df['imdb_id'])]"
   ]
  },
  {
   "cell_type": "markdown",
   "id": "234bb907-29e6-4548-adbb-1f26f818ae49",
   "metadata": {},
   "source": [
    "## Perform the Loop of API Calls\n",
    "Note: you have already written a function to combine the certification with the rest of the .info() from the TMDB API results in the Intro to TMDB API lesson.\n",
    "\n",
    "Create a loop to make API calls for each id in the YEAR specified. Include a progress bar using tqdm_notebook\n",
    "\n",
    "**For each movie id:**\n",
    "\n",
    "- Extract the current ID from the API and retrieve the dictionary of results\n",
    "- Append the new results to the list from the JSON file\n",
    "- Save the updated JSON file back to the disk"
   ]
  },
  {
   "cell_type": "code",
   "execution_count": 15,
   "id": "60a935dd-8df0-47cb-bbb9-4d492a54c909",
   "metadata": {},
   "outputs": [
    {
     "data": {
      "application/vnd.jupyter.widget-view+json": {
       "model_id": "0b2cf65b40c04d2ca18aa6e437beb1f8",
       "version_major": 2,
       "version_minor": 0
      },
      "text/plain": [
       "Movies from 2010:   0%|          | 0/1131 [00:00<?, ?it/s]"
      ]
     },
     "metadata": {},
     "output_type": "display_data"
    }
   ],
   "source": [
    "# Loop through movie_ids_to_get with a tqdm progress bar\n",
    "for movie_id in tqdm_notebook(movie_ids_to_get, f\"Movies from {YEAR}\"):\n",
    "\n",
    "    # Attempt to retrieve then data for the movie id\n",
    "    try:\n",
    "        temp = get_movie_with_rating(movie_id)  #This uses your pre-ma    de function\n",
    "        # Append/extend results to existing file using a pre-made function\n",
    "        write_json(temp,JSON_FILE)\n",
    "        # Short 20 ms sleep to prevent overwhelming server\n",
    "        time.sleep(0.02)\n",
    "\n",
    "    # If it fails,  make a dict with just the id and None for certification.\n",
    "    except Exception as e:\n",
    "        errors.append([movie_id, e])"
   ]
  },
  {
   "cell_type": "code",
   "execution_count": 16,
   "id": "a380d9c5-6a9a-48b5-bed8-ef65b5ca0cdd",
   "metadata": {},
   "outputs": [
    {
     "name": "stdout",
     "output_type": "stream",
     "text": [
      "- Total errors: 1131\n"
     ]
    }
   ],
   "source": [
    "print(f\"- Total errors: {len(errors)}\")"
   ]
  },
  {
   "cell_type": "markdown",
   "id": "f7dcca72-6f0c-410d-9416-0c29fec7d9c4",
   "metadata": {},
   "source": [
    "## Save the Results to Compressed .csv\n",
    "- After the loop, save the final results for the year as a csv.gz file with the year in the filename."
   ]
  },
  {
   "cell_type": "code",
   "execution_count": 17,
   "id": "8eb99d79-7377-4754-ba1b-688e02c194f6",
   "metadata": {},
   "outputs": [],
   "source": [
    "final_year_df = pd.read_json(JSON_FILE)\n",
    "final_year_df.to_csv(f\"{FOLDER}final_tmdb_data_{YEAR}.csv.gz\", compression=\"gzip\", index=False)"
   ]
  }
 ],
 "metadata": {
  "kernelspec": {
   "display_name": "Python 3 (ipykernel)",
   "language": "python",
   "name": "python3"
  },
  "language_info": {
   "codemirror_mode": {
    "name": "ipython",
    "version": 3
   },
   "file_extension": ".py",
   "mimetype": "text/x-python",
   "name": "python",
   "nbconvert_exporter": "python",
   "pygments_lexer": "ipython3",
   "version": "3.10.10"
  },
  "widgets": {
   "application/vnd.jupyter.widget-state+json": {
    "state": {
     "0b2cf65b40c04d2ca18aa6e437beb1f8": {
      "model_module": "@jupyter-widgets/controls",
      "model_module_version": "2.0.0",
      "model_name": "HBoxModel",
      "state": {
       "children": [
        "IPY_MODEL_8c63c6a6063e46c4981db3abed48d368",
        "IPY_MODEL_3d6b70bb4270476bac0d50dc98f389ee",
        "IPY_MODEL_0dcaeb71d9d54a148b550434078f8031"
       ],
       "layout": "IPY_MODEL_7dd2048820e74c838feba017703fdb15"
      }
     },
     "0dcaeb71d9d54a148b550434078f8031": {
      "model_module": "@jupyter-widgets/controls",
      "model_module_version": "2.0.0",
      "model_name": "HTMLModel",
      "state": {
       "layout": "IPY_MODEL_277760245fa24a99a8e794599d33bb09",
       "style": "IPY_MODEL_ee442392d372452cb0d83e84cc479d84",
       "value": " 1131/1131 [03:25&lt;00:00,  5.32it/s]"
      }
     },
     "277760245fa24a99a8e794599d33bb09": {
      "model_module": "@jupyter-widgets/base",
      "model_module_version": "2.0.0",
      "model_name": "LayoutModel",
      "state": {}
     },
     "3d6b70bb4270476bac0d50dc98f389ee": {
      "model_module": "@jupyter-widgets/controls",
      "model_module_version": "2.0.0",
      "model_name": "FloatProgressModel",
      "state": {
       "bar_style": "success",
       "layout": "IPY_MODEL_d6f497362cea434b9ddb4eb6d5907fc2",
       "max": 1131,
       "style": "IPY_MODEL_b40d772d713946a7b721c56c00f94dc2",
       "value": 1131
      }
     },
     "483af1bab0dc42628c859b09d15ba0bf": {
      "model_module": "@jupyter-widgets/base",
      "model_module_version": "2.0.0",
      "model_name": "LayoutModel",
      "state": {}
     },
     "7dd2048820e74c838feba017703fdb15": {
      "model_module": "@jupyter-widgets/base",
      "model_module_version": "2.0.0",
      "model_name": "LayoutModel",
      "state": {}
     },
     "8c63c6a6063e46c4981db3abed48d368": {
      "model_module": "@jupyter-widgets/controls",
      "model_module_version": "2.0.0",
      "model_name": "HTMLModel",
      "state": {
       "layout": "IPY_MODEL_483af1bab0dc42628c859b09d15ba0bf",
       "style": "IPY_MODEL_b2d2da8a3e594a228e05dec843ef619a",
       "value": "Movies from 2010: 100%"
      }
     },
     "b2d2da8a3e594a228e05dec843ef619a": {
      "model_module": "@jupyter-widgets/controls",
      "model_module_version": "2.0.0",
      "model_name": "HTMLStyleModel",
      "state": {
       "description_width": "",
       "font_size": null,
       "text_color": null
      }
     },
     "b40d772d713946a7b721c56c00f94dc2": {
      "model_module": "@jupyter-widgets/controls",
      "model_module_version": "2.0.0",
      "model_name": "ProgressStyleModel",
      "state": {
       "description_width": ""
      }
     },
     "d6f497362cea434b9ddb4eb6d5907fc2": {
      "model_module": "@jupyter-widgets/base",
      "model_module_version": "2.0.0",
      "model_name": "LayoutModel",
      "state": {}
     },
     "ee442392d372452cb0d83e84cc479d84": {
      "model_module": "@jupyter-widgets/controls",
      "model_module_version": "2.0.0",
      "model_name": "HTMLStyleModel",
      "state": {
       "description_width": "",
       "font_size": null,
       "text_color": null
      }
     }
    },
    "version_major": 2,
    "version_minor": 0
   }
  }
 },
 "nbformat": 4,
 "nbformat_minor": 5
}
